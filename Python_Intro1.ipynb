{
  "nbformat": 4,
  "nbformat_minor": 0,
  "metadata": {
    "kernelspec": {
      "display_name": "Python 2",
      "language": "python",
      "name": "python2"
    },
    "language_info": {
      "codemirror_mode": {
        "name": "ipython",
        "version": 2
      },
      "file_extension": ".py",
      "mimetype": "text/x-python",
      "name": "python",
      "nbconvert_exporter": "python",
      "pygments_lexer": "ipython2",
      "version": "2.7.14"
    },
    "colab": {
      "name": "Python_Intro1.ipynb",
      "provenance": [],
      "include_colab_link": true
    }
  },
  "cells": [
    {
      "cell_type": "markdown",
      "metadata": {
        "id": "view-in-github",
        "colab_type": "text"
      },
      "source": [
        "<a href=\"https://colab.research.google.com/github/sheaduarte/ARTproject/blob/master/Python_Intro1.ipynb\" target=\"_parent\"><img src=\"https://colab.research.google.com/assets/colab-badge.svg\" alt=\"Open In Colab\"/></a>"
      ]
    },
    {
      "cell_type": "markdown",
      "metadata": {
        "id": "PPthOQsyE5-j",
        "colab_type": "text"
      },
      "source": [
        "# Python Intro Tutorial"
      ]
    },
    {
      "cell_type": "markdown",
      "metadata": {
        "id": "cOpRYKOpE5-k",
        "colab_type": "text"
      },
      "source": [
        "Hi RAs! Follow along with this notebook to learn some Python basics like creating variables, discerning their types, lists, dictionaries, etc."
      ]
    },
    {
      "cell_type": "markdown",
      "metadata": {
        "id": "QIv8FjG2E5-l",
        "colab_type": "text"
      },
      "source": [
        "# Creating Variables"
      ]
    },
    {
      "cell_type": "markdown",
      "metadata": {
        "id": "Ls8BgUygE5-m",
        "colab_type": "text"
      },
      "source": [
        "To create a variable in Python, just set the name of the variable equal to the value. For example:"
      ]
    },
    {
      "cell_type": "code",
      "metadata": {
        "id": "PkV06XHYE5-m",
        "colab_type": "code",
        "colab": {}
      },
      "source": [
        "#creating a variable that indicates number of listens (in millions)\n",
        "SgtPepp = 10.360"
      ],
      "execution_count": 0,
      "outputs": []
    },
    {
      "cell_type": "code",
      "metadata": {
        "id": "54mG_MAJE5-p",
        "colab_type": "code",
        "outputId": "338c0f26-fde7-48eb-c457-dbc87dc17c5b",
        "colab": {}
      },
      "source": [
        "#now that you've created this variable, you can see the value using the print() function. \n",
        "print(SgtPepp)"
      ],
      "execution_count": 0,
      "outputs": [
        {
          "output_type": "stream",
          "text": [
            "10.36\n"
          ],
          "name": "stdout"
        }
      ]
    },
    {
      "cell_type": "code",
      "metadata": {
        "id": "ahOreTROE5-s",
        "colab_type": "code",
        "colab": {}
      },
      "source": [
        "#now create a variable called \"StrawbFields\" with a value of 65 and print it to check"
      ],
      "execution_count": 0,
      "outputs": []
    },
    {
      "cell_type": "code",
      "metadata": {
        "id": "i8ffTWAME5-u",
        "colab_type": "code",
        "outputId": "7aed6c73-aa1c-48dc-bb74-8987a62604fc",
        "colab": {
          "base_uri": "https://localhost:8080/",
          "height": 34
        }
      },
      "source": [
        "blueberriesarebetter = 65\n",
        "print(blueberriesarebetter)"
      ],
      "execution_count": 0,
      "outputs": [
        {
          "output_type": "stream",
          "text": [
            "65\n"
          ],
          "name": "stdout"
        }
      ]
    },
    {
      "cell_type": "markdown",
      "metadata": {
        "id": "pgmf0WuAE5-w",
        "colab_type": "text"
      },
      "source": [
        "Note: Python doesn't like it when you use spaces in your variables, so if you want to indicate a separation, you can use a \"_\", for example \"Sgt_Pepp\"\n",
        "\n",
        "Also, be sure not to overwrite any of Python's keywords as variables."
      ]
    },
    {
      "cell_type": "markdown",
      "metadata": {
        "id": "M7g5kiNfE5-x",
        "colab_type": "text"
      },
      "source": [
        "# Variable Types"
      ]
    },
    {
      "cell_type": "markdown",
      "metadata": {
        "id": "fzDCldK1E5-y",
        "colab_type": "text"
      },
      "source": [
        "There are different types of variables in Python which have different uses. You can check the variable type by running 'type(yourVariable)'. "
      ]
    },
    {
      "cell_type": "code",
      "metadata": {
        "id": "WRSpI6NtE5-y",
        "colab_type": "code",
        "outputId": "b0cd15fe-ec64-4093-9e3b-70ac204f7330",
        "colab": {}
      },
      "source": [
        "type(SgtPepp)"
      ],
      "execution_count": 0,
      "outputs": [
        {
          "output_type": "execute_result",
          "data": {
            "text/plain": [
              "float"
            ]
          },
          "metadata": {
            "tags": []
          },
          "execution_count": 5
        }
      ]
    },
    {
      "cell_type": "markdown",
      "metadata": {
        "id": "Cr00bJjFE5-1",
        "colab_type": "text"
      },
      "source": [
        "it's a float! Floats are numbers with decimals. Now, check the variable type for 'StrawbFields' by running the same function as above"
      ]
    },
    {
      "cell_type": "code",
      "metadata": {
        "id": "4o7f-UhVE5-1",
        "colab_type": "code",
        "colab": {}
      },
      "source": [
        ""
      ],
      "execution_count": 0,
      "outputs": []
    },
    {
      "cell_type": "markdown",
      "metadata": {
        "id": "Wnhx81r8E5-3",
        "colab_type": "text"
      },
      "source": [
        "it's an integer! Similar to a float, but it doesn't contain decimal places. \n",
        "\n",
        "Another common variable type is a string. Strings are sequences of characters."
      ]
    },
    {
      "cell_type": "code",
      "metadata": {
        "id": "rx6vJTNBE5-4",
        "colab_type": "code",
        "colab": {}
      },
      "source": [
        "SPtrack1 = 'SgtPeppSong'"
      ],
      "execution_count": 0,
      "outputs": []
    },
    {
      "cell_type": "code",
      "metadata": {
        "id": "Gm07emwKE5-6",
        "colab_type": "code",
        "outputId": "a9f0bda4-5459-4531-ca1d-2cba20b86afd",
        "colab": {}
      },
      "source": [
        "type(SPtrack1)"
      ],
      "execution_count": 0,
      "outputs": [
        {
          "output_type": "execute_result",
          "data": {
            "text/plain": [
              "str"
            ]
          },
          "metadata": {
            "tags": []
          },
          "execution_count": 7
        }
      ]
    },
    {
      "cell_type": "markdown",
      "metadata": {
        "id": "zHC4XkN-E5-8",
        "colab_type": "text"
      },
      "source": [
        "You can also perform arithmetic on variables, run these lines of code to see what happens to these variable types."
      ]
    },
    {
      "cell_type": "code",
      "metadata": {
        "id": "Wu5t-bUGE5-9",
        "colab_type": "code",
        "outputId": "ecc745c4-a0c1-445e-f245-a413a48ad270",
        "colab": {}
      },
      "source": [
        "SgtPepp + StrawbFields"
      ],
      "execution_count": 0,
      "outputs": [
        {
          "output_type": "error",
          "ename": "NameError",
          "evalue": "name 'StrawbFields' is not defined",
          "traceback": [
            "\u001b[0;31m---------------------------------------------------------------------------\u001b[0m",
            "\u001b[0;31mNameError\u001b[0m                                 Traceback (most recent call last)",
            "\u001b[0;32m<ipython-input-9-98102e1041fe>\u001b[0m in \u001b[0;36m<module>\u001b[0;34m()\u001b[0m\n\u001b[0;32m----> 1\u001b[0;31m \u001b[0mSgtPepp\u001b[0m \u001b[0;34m+\u001b[0m \u001b[0mStrawbFields\u001b[0m\u001b[0;34m\u001b[0m\u001b[0m\n\u001b[0m",
            "\u001b[0;31mNameError\u001b[0m: name 'StrawbFields' is not defined"
          ]
        }
      ]
    },
    {
      "cell_type": "code",
      "metadata": {
        "id": "picpbFNBE5_B",
        "colab_type": "code",
        "outputId": "7e22cf52-aa71-48d9-a86f-225365b530d1",
        "colab": {}
      },
      "source": [
        "SgtPepp * StrawbFields"
      ],
      "execution_count": 0,
      "outputs": [
        {
          "output_type": "error",
          "ename": "NameError",
          "evalue": "name 'StrawbFields' is not defined",
          "traceback": [
            "\u001b[0;31m---------------------------------------------------------------------------\u001b[0m",
            "\u001b[0;31mNameError\u001b[0m                                 Traceback (most recent call last)",
            "\u001b[0;32m<ipython-input-10-e80bd3be3bd9>\u001b[0m in \u001b[0;36m<module>\u001b[0;34m()\u001b[0m\n\u001b[0;32m----> 1\u001b[0;31m \u001b[0mSgtPepp\u001b[0m \u001b[0;34m*\u001b[0m \u001b[0mStrawbFields\u001b[0m\u001b[0;34m\u001b[0m\u001b[0m\n\u001b[0m",
            "\u001b[0;31mNameError\u001b[0m: name 'StrawbFields' is not defined"
          ]
        }
      ]
    },
    {
      "cell_type": "code",
      "metadata": {
        "id": "BEpr3SdAE5_D",
        "colab_type": "code",
        "colab": {}
      },
      "source": [
        "#creating a new string variable\n",
        "SPtrack2 = 'LittleHelp'"
      ],
      "execution_count": 0,
      "outputs": []
    },
    {
      "cell_type": "code",
      "metadata": {
        "id": "4jMGl5YXE5_F",
        "colab_type": "code",
        "outputId": "58e516ac-717f-4cb9-b4cd-129db1d48879",
        "colab": {}
      },
      "source": [
        "SPtrack1 + SPtrack2"
      ],
      "execution_count": 0,
      "outputs": [
        {
          "output_type": "execute_result",
          "data": {
            "text/plain": [
              "'SgtPeppSongLittleHelp'"
            ]
          },
          "metadata": {
            "tags": []
          },
          "execution_count": 13
        }
      ]
    },
    {
      "cell_type": "markdown",
      "metadata": {
        "id": "2-EnbDTvE5_H",
        "colab_type": "text"
      },
      "source": [
        "This isn't very useful in this case, but it can come in handy down the line."
      ]
    },
    {
      "cell_type": "code",
      "metadata": {
        "id": "wH7xsuatE5_I",
        "colab_type": "code",
        "outputId": "fd20e537-7e4c-4c0a-ce0b-156250997dab",
        "colab": {}
      },
      "source": [
        "StrawbFields + SPtrack1"
      ],
      "execution_count": 0,
      "outputs": [
        {
          "output_type": "error",
          "ename": "NameError",
          "evalue": "name 'StrawbFields' is not defined",
          "traceback": [
            "\u001b[0;31m---------------------------------------------------------------------------\u001b[0m",
            "\u001b[0;31mNameError\u001b[0m                                 Traceback (most recent call last)",
            "\u001b[0;32m<ipython-input-14-35379659cbb6>\u001b[0m in \u001b[0;36m<module>\u001b[0;34m()\u001b[0m\n\u001b[0;32m----> 1\u001b[0;31m \u001b[0mStrawbFields\u001b[0m \u001b[0;34m+\u001b[0m \u001b[0mSPtrack1\u001b[0m\u001b[0;34m\u001b[0m\u001b[0m\n\u001b[0m",
            "\u001b[0;31mNameError\u001b[0m: name 'StrawbFields' is not defined"
          ]
        }
      ]
    },
    {
      "cell_type": "markdown",
      "metadata": {
        "id": "IzXzE5HYE5_K",
        "colab_type": "text"
      },
      "source": [
        "So, you can't run a math operation on a string and an integer, but you can run one on an integer and a float because they both have numerical values."
      ]
    },
    {
      "cell_type": "markdown",
      "metadata": {
        "id": "05xh_zMzE5_L",
        "colab_type": "text"
      },
      "source": [
        "# Lists"
      ]
    },
    {
      "cell_type": "markdown",
      "metadata": {
        "id": "0TwWTcZME5_L",
        "colab_type": "text"
      },
      "source": [
        "Lists can be created by setting the name of your list equal to your list entries in brackets, with the values separated by commas. You can use any variable type in a list."
      ]
    },
    {
      "cell_type": "code",
      "metadata": {
        "id": "VlRZnvQoE5_M",
        "colab_type": "code",
        "colab": {}
      },
      "source": [
        "#creating a list called SP_Album\n",
        "SP_Album = ['SgtPeppSong', 'LittleHelp', 'LucyInTheSky', 'GettingBetter', 'FixHole', \n",
        "            'ShesLeavingHome', 'MrKite', 'WithinYou', 'SixtyFour','CantBuyMeLove', 'Rita', 'GoodMorning']"
      ],
      "execution_count": 0,
      "outputs": []
    },
    {
      "cell_type": "markdown",
      "metadata": {
        "id": "ZTbegloPE5_O",
        "colab_type": "text"
      },
      "source": [
        "but wait! you forgot to add the last value. You can add a value to the end like this:"
      ]
    },
    {
      "cell_type": "code",
      "metadata": {
        "id": "CvsfMq9jE5_O",
        "colab_type": "code",
        "colab": {}
      },
      "source": [
        "SP_Album.append('DayInTheLife')"
      ],
      "execution_count": 0,
      "outputs": []
    },
    {
      "cell_type": "code",
      "metadata": {
        "id": "uENzK4OOE5_Q",
        "colab_type": "code",
        "colab": {}
      },
      "source": [
        "#print SP_Album to make sure you successfully added the last value\n"
      ],
      "execution_count": 0,
      "outputs": []
    },
    {
      "cell_type": "markdown",
      "metadata": {
        "id": "gtLphMrVE5_V",
        "colab_type": "text"
      },
      "source": [
        "Say you have another list, and you want to combine them. You can do so like this:"
      ]
    },
    {
      "cell_type": "code",
      "metadata": {
        "id": "3Cac-aj4E5_W",
        "colab_type": "code",
        "colab": {}
      },
      "source": [
        "Help_Album = ['Help', 'NightBefore', 'HideYourLove', 'INeedYou', 'AnotherGirl', \n",
        "        'LoseThatGirl', 'TicketToRide', 'ActNaturally', 'ItsOnlyLove', 'Yesterday','JustSeenAFace']"
      ],
      "execution_count": 0,
      "outputs": []
    },
    {
      "cell_type": "code",
      "metadata": {
        "id": "kO55fAFoE5_Y",
        "colab_type": "code",
        "outputId": "ede3e2e5-c37d-47ef-832d-cf57e9b04fed",
        "colab": {}
      },
      "source": [
        "SP_Album + Help_Album"
      ],
      "execution_count": 0,
      "outputs": [
        {
          "output_type": "execute_result",
          "data": {
            "text/plain": [
              "['SgtPeppSong',\n",
              " 'LittleHelp',\n",
              " 'LucyInTheSky',\n",
              " 'GettingBetter',\n",
              " 'FixHole',\n",
              " 'ShesLeavingHome',\n",
              " 'MrKite',\n",
              " 'WithinYou',\n",
              " 'SixtyFour',\n",
              " 'Rita',\n",
              " 'GoodMorning',\n",
              " 'DayInTheLife',\n",
              " 'Help',\n",
              " 'NightBefore',\n",
              " 'HideYourLove',\n",
              " 'INeedYou',\n",
              " 'AnotherGirl',\n",
              " 'LoseThatGirl',\n",
              " 'TicketToRide',\n",
              " 'ActNaturally',\n",
              " 'ItsOnlyLove',\n",
              " 'Yesterday',\n",
              " 'JustSeenAFace']"
            ]
          },
          "metadata": {
            "tags": []
          },
          "execution_count": 46
        }
      ]
    },
    {
      "cell_type": "markdown",
      "metadata": {
        "id": "BmIC0suXE5_a",
        "colab_type": "text"
      },
      "source": [
        "the output will be a new list with all of the values included.\n",
        "\n",
        "you can store this as a new variable if you want to use it later:"
      ]
    },
    {
      "cell_type": "code",
      "metadata": {
        "id": "u_R-wW2iE5_a",
        "colab_type": "code",
        "colab": {}
      },
      "source": [
        "allSongs = SP_Album + Help_Album"
      ],
      "execution_count": 0,
      "outputs": []
    },
    {
      "cell_type": "code",
      "metadata": {
        "id": "WyOtP9QxE5_b",
        "colab_type": "code",
        "outputId": "99ce581a-6b84-4285-8425-810b5e8d934a",
        "colab": {}
      },
      "source": [
        "print(allSongs)"
      ],
      "execution_count": 0,
      "outputs": [
        {
          "output_type": "stream",
          "text": [
            "['SgtPeppSong', 'LittleHelp', 'LucyInTheSky', 'GettingBetter', 'FixHole', 'ShesLeavingHome', 'MrKite', 'WithinYou', 'SixtyFour', 'Rita', 'GoodMorning', 'DayInTheLife', 'Help', 'NightBefore', 'HideYourLove', 'INeedYou', 'AnotherGirl', 'LoseThatGirl', 'TicketToRide', 'ActNaturally', 'ItsOnlyLove', 'Yesterday', 'JustSeenAFace']\n"
          ],
          "name": "stdout"
        }
      ]
    },
    {
      "cell_type": "markdown",
      "metadata": {
        "id": "9wIZ-nKBE5_d",
        "colab_type": "text"
      },
      "source": [
        "Say you want to remember what the third value in a list is, you can find it like this:"
      ]
    },
    {
      "cell_type": "code",
      "metadata": {
        "id": "d5SSaBslE5_e",
        "colab_type": "code",
        "outputId": "cbd4f1bc-074d-46e8-be60-7f5242011e67",
        "colab": {}
      },
      "source": [
        "SP_Album[2]"
      ],
      "execution_count": 0,
      "outputs": [
        {
          "output_type": "execute_result",
          "data": {
            "text/plain": [
              "'LucyInTheSky'"
            ]
          },
          "metadata": {
            "tags": []
          },
          "execution_count": 49
        }
      ]
    },
    {
      "cell_type": "markdown",
      "metadata": {
        "id": "7KLKfEVqE5_f",
        "colab_type": "text"
      },
      "source": [
        "Why use 2? Python indexes at 0! "
      ]
    },
    {
      "cell_type": "code",
      "metadata": {
        "id": "5dskNH2zE5_f",
        "colab_type": "code",
        "outputId": "a16aa681-3058-416a-fa2a-6497d6f61d46",
        "colab": {}
      },
      "source": [
        "SP_Album[0]"
      ],
      "execution_count": 0,
      "outputs": [
        {
          "output_type": "execute_result",
          "data": {
            "text/plain": [
              "'SgtPeppSong'"
            ]
          },
          "metadata": {
            "tags": []
          },
          "execution_count": 50
        }
      ]
    },
    {
      "cell_type": "code",
      "metadata": {
        "id": "AnrvHv0CE5_h",
        "colab_type": "code",
        "outputId": "35c70e71-cf28-4fc0-9911-1d8f58218d3d",
        "colab": {}
      },
      "source": [
        "SP_Album[1]"
      ],
      "execution_count": 0,
      "outputs": [
        {
          "output_type": "execute_result",
          "data": {
            "text/plain": [
              "'LittleHelp'"
            ]
          },
          "metadata": {
            "tags": []
          },
          "execution_count": 51
        }
      ]
    },
    {
      "cell_type": "markdown",
      "metadata": {
        "id": "SIb_D_tnE5_i",
        "colab_type": "text"
      },
      "source": [
        "Say you want to remember the last value in the list, you can do that like this:"
      ]
    },
    {
      "cell_type": "code",
      "metadata": {
        "id": "6Ftsi2jjE5_i",
        "colab_type": "code",
        "outputId": "65aec139-043a-40a5-ebbc-e97a17b6c719",
        "colab": {}
      },
      "source": [
        "SP_Album[-1]"
      ],
      "execution_count": 0,
      "outputs": [
        {
          "output_type": "execute_result",
          "data": {
            "text/plain": [
              "'DayInTheLife'"
            ]
          },
          "metadata": {
            "tags": []
          },
          "execution_count": 52
        }
      ]
    },
    {
      "cell_type": "markdown",
      "metadata": {
        "id": "8dP-59qmE5_k",
        "colab_type": "text"
      },
      "source": [
        "You remembered that 'CantBuyMeLove' isn't on Sgt. Pepper and you want to delete it from the list. You can remove a value from a list like this:"
      ]
    },
    {
      "cell_type": "code",
      "metadata": {
        "id": "bxD7PKl0E5_k",
        "colab_type": "code",
        "colab": {}
      },
      "source": [
        "del(SP_Album[9])"
      ],
      "execution_count": 0,
      "outputs": []
    },
    {
      "cell_type": "code",
      "metadata": {
        "id": "LOeK6nUhE5_m",
        "colab_type": "code",
        "colab": {}
      },
      "source": [
        "#Print SP_Album to make sure you successfully removed 'CantBuyMeLove'\n"
      ],
      "execution_count": 0,
      "outputs": []
    },
    {
      "cell_type": "markdown",
      "metadata": {
        "id": "lS3DkUyKE5_n",
        "colab_type": "text"
      },
      "source": [
        "You can also select subsets of a list using [:]. For example, if you only care about the first half of the list, you can select it like this:"
      ]
    },
    {
      "cell_type": "code",
      "metadata": {
        "id": "0cxgxLq1E5_o",
        "colab_type": "code",
        "outputId": "86218817-97eb-45f1-bfb1-f291d2431733",
        "colab": {}
      },
      "source": [
        "#first find the length of the list by using \"len()\"\n",
        "len(SP_Album)"
      ],
      "execution_count": 0,
      "outputs": [
        {
          "output_type": "execute_result",
          "data": {
            "text/plain": [
              "12"
            ]
          },
          "metadata": {
            "tags": []
          },
          "execution_count": 31
        }
      ]
    },
    {
      "cell_type": "code",
      "metadata": {
        "id": "w2zyvWr5E5_p",
        "colab_type": "code",
        "outputId": "f008c9c6-f678-4286-9fbf-62a54bcf2b9a",
        "colab": {}
      },
      "source": [
        "#So, you want the first 6 values\n",
        "SP_Album[0:6]"
      ],
      "execution_count": 0,
      "outputs": [
        {
          "output_type": "execute_result",
          "data": {
            "text/plain": [
              "['SgtPeppSong',\n",
              " 'LittleHelp',\n",
              " 'LucyInTheSky',\n",
              " 'GettingBetter',\n",
              " 'FixHole',\n",
              " 'ShesLeavingHome']"
            ]
          },
          "metadata": {
            "tags": []
          },
          "execution_count": 32
        }
      ]
    },
    {
      "cell_type": "code",
      "metadata": {
        "id": "vOhA0Ii1E5_q",
        "colab_type": "code",
        "outputId": "05bbdb31-9bd8-43d8-c849-085dcf1633d2",
        "colab": {}
      },
      "source": [
        "#You can also just type this to get the same thing\n",
        "SP_Album[:6]"
      ],
      "execution_count": 0,
      "outputs": [
        {
          "output_type": "execute_result",
          "data": {
            "text/plain": [
              "['SgtPeppSong',\n",
              " 'LittleHelp',\n",
              " 'LucyInTheSky',\n",
              " 'GettingBetter',\n",
              " 'FixHole',\n",
              " 'ShesLeavingHome']"
            ]
          },
          "metadata": {
            "tags": []
          },
          "execution_count": 33
        }
      ]
    },
    {
      "cell_type": "markdown",
      "metadata": {
        "id": "4gxXKRAjE5_s",
        "colab_type": "text"
      },
      "source": [
        "You can save this as a variable if you want to revisit it later on:"
      ]
    },
    {
      "cell_type": "code",
      "metadata": {
        "id": "805_aRBTE5_s",
        "colab_type": "code",
        "colab": {}
      },
      "source": [
        "SP_FirstHalf = SP_Album[:6]"
      ],
      "execution_count": 0,
      "outputs": []
    },
    {
      "cell_type": "code",
      "metadata": {
        "id": "TTQWtiBpE5_u",
        "colab_type": "code",
        "outputId": "cbbc4fa9-afda-4397-af7c-f28ea82a1ae1",
        "colab": {}
      },
      "source": [
        "print(SP_FirstHalf)"
      ],
      "execution_count": 0,
      "outputs": [
        {
          "output_type": "stream",
          "text": [
            "['SgtPeppSong', 'LittleHelp', 'LucyInTheSky', 'GettingBetter', 'FixHole', 'ShesLeavingHome']\n"
          ],
          "name": "stdout"
        }
      ]
    },
    {
      "cell_type": "markdown",
      "metadata": {
        "id": "15e94YURE5_v",
        "colab_type": "text"
      },
      "source": [
        "Now, try to select the last half of the songs and save that new sublist as \"SP_SecondHalf\". Print it out to make sure it came out right."
      ]
    },
    {
      "cell_type": "code",
      "metadata": {
        "id": "5RXmJST1E5_w",
        "colab_type": "code",
        "colab": {}
      },
      "source": [
        ""
      ],
      "execution_count": 0,
      "outputs": []
    },
    {
      "cell_type": "code",
      "metadata": {
        "id": "Y6oONhhuE5_x",
        "colab_type": "code",
        "colab": {}
      },
      "source": [
        ""
      ],
      "execution_count": 0,
      "outputs": []
    },
    {
      "cell_type": "markdown",
      "metadata": {
        "id": "sg5lowfXE5_y",
        "colab_type": "text"
      },
      "source": [
        "You can also select a subset from the middle of the list by using SP_Album[3:8] for example."
      ]
    },
    {
      "cell_type": "markdown",
      "metadata": {
        "id": "4dSDt38hE5_z",
        "colab_type": "text"
      },
      "source": [
        "# Dictionaries"
      ]
    },
    {
      "cell_type": "markdown",
      "metadata": {
        "collapsed": true,
        "id": "cjDLukj9E5_z",
        "colab_type": "text"
      },
      "source": [
        "Dictionaries are lists of key-value pairs, which you can create with the format dict = {w:x, y:z}"
      ]
    },
    {
      "cell_type": "markdown",
      "metadata": {
        "id": "8M2c4gtIE5_0",
        "colab_type": "text"
      },
      "source": [
        "Say you want to create a dict of the songs from the Sgt. Pepper album and include the number of listens (in millions) for each song, you can do so like this:"
      ]
    },
    {
      "cell_type": "code",
      "metadata": {
        "id": "RymYB362E5_0",
        "colab_type": "code",
        "colab": {}
      },
      "source": [
        "SP_Listens = {'SgtPeppSong': 10.360, 'LittleHelp': 9.25, 'LucyInTheSky': 10.51, 'GettingBetter': 5.01, \n",
        "              'FixHole': 3.99, 'ShesLeavingHome': 4.31, 'MrKite': 2.92, 'WithinYou': 3.61, \n",
        "              'SixtyFour': 5.0, 'Rita': 2.98, 'GoodMorning': 2.14}"
      ],
      "execution_count": 0,
      "outputs": []
    },
    {
      "cell_type": "markdown",
      "metadata": {
        "collapsed": true,
        "id": "S7PEEUqKE5_1",
        "colab_type": "text"
      },
      "source": [
        "Now, you can find out how many listens one of the songs has by indexing the name of the song within the list:"
      ]
    },
    {
      "cell_type": "code",
      "metadata": {
        "id": "d-ehBY9TE5_2",
        "colab_type": "code",
        "outputId": "52222d98-186b-4451-d636-f2ae6bb4ff7c",
        "colab": {}
      },
      "source": [
        "SP_Listens['LittleHelp']"
      ],
      "execution_count": 0,
      "outputs": [
        {
          "output_type": "execute_result",
          "data": {
            "text/plain": [
              "9.25"
            ]
          },
          "metadata": {
            "tags": []
          },
          "execution_count": 55
        }
      ]
    },
    {
      "cell_type": "markdown",
      "metadata": {
        "id": "HCo51IwDE5_4",
        "colab_type": "text"
      },
      "source": [
        "Find the number of listens for another song using the same method."
      ]
    },
    {
      "cell_type": "code",
      "metadata": {
        "id": "omAgnEZbE5_4",
        "colab_type": "code",
        "colab": {}
      },
      "source": [
        ""
      ],
      "execution_count": 0,
      "outputs": []
    }
  ]
}